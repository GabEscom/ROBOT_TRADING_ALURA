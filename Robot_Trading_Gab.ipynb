{
  "nbformat": 4,
  "nbformat_minor": 0,
  "metadata": {
    "colab": {
      "provenance": [],
      "collapsed_sections": [
        "l8ucCqpWZfyR",
        "Z_P9Zs5k4Qav",
        "7_n6rbMM1Ymo",
        "kna2gB5GpvNk",
        "8jXPyXY1p-vc",
        "OKIyiROq5orL"
      ],
      "authorship_tag": "ABX9TyOGttFxDUMvJiM/Azqnp3oX",
      "include_colab_link": true
    },
    "kernelspec": {
      "name": "python3",
      "display_name": "Python 3"
    },
    "language_info": {
      "name": "python"
    }
  },
  "cells": [
    {
      "cell_type": "markdown",
      "metadata": {
        "id": "view-in-github",
        "colab_type": "text"
      },
      "source": [
        "<a href=\"https://colab.research.google.com/github/GabEscom/ROBOT_TRADING_ALURA/blob/main/Robot_Trading_Gab.ipynb\" target=\"_parent\"><img src=\"https://colab.research.google.com/assets/colab-badge.svg\" alt=\"Open In Colab\"/></a>"
      ]
    },
    {
      "cell_type": "markdown",
      "source": [
        "##<font color=cyan>**1. Configuración del Ambiente**\n"
      ],
      "metadata": {
        "id": "l8ucCqpWZfyR"
      }
    },
    {
      "cell_type": "code",
      "source": [
        "pip install matplotlib\n"
      ],
      "metadata": {
        "id": "LO-mDcupdTko"
      },
      "execution_count": null,
      "outputs": []
    },
    {
      "cell_type": "code",
      "source": [
        "pip install yfinance"
      ],
      "metadata": {
        "id": "q8lVZ_QFen4o"
      },
      "execution_count": null,
      "outputs": []
    },
    {
      "cell_type": "code",
      "execution_count": null,
      "metadata": {
        "id": "AqqYQyXfXNre"
      },
      "outputs": [],
      "source": [
        "# Bibliotecas\n",
        "import sys\n",
        "import bs4\n",
        "from urllib.request import urlopen, urlretrieve, Request\n",
        "import requests\n",
        "import pandas as pd\n",
        "import matplotlib.pyplot as plt\n",
        "import yfinance as yf\n",
        "from bs4 import BeautifulSoup\n",
        "from IPython.display import clear_output\n",
        "import time\n",
        "from datetime import datetime\n"
      ]
    },
    {
      "cell_type": "markdown",
      "source": [
        "##<font color=cyan>**2. Obtención de datos**"
      ],
      "metadata": {
        "id": "Z_P9Zs5k4Qav"
      }
    },
    {
      "cell_type": "code",
      "source": [
        "## Importar base de datos de bitcoin\n",
        "\n",
        "def importar_base_bitcoin():\n",
        "  global df_bitcoin\n",
        "  df_bitcoin= yf.download(\"BTC-USD\", interval=\"5m\", period=\"7d\")\n"
      ],
      "metadata": {
        "id": "HvXe6sW5auCi"
      },
      "execution_count": null,
      "outputs": []
    },
    {
      "cell_type": "code",
      "source": [
        "importar_base_bitcoin()\n",
        "df_bitcoin.head()"
      ],
      "metadata": {
        "id": "-8WfvIEa5pz8",
        "colab": {
          "base_uri": "https://localhost:8080/",
          "height": 255
        },
        "outputId": "301e8459-c6d2-419a-fd1e-6ebe0376a481"
      },
      "execution_count": null,
      "outputs": [
        {
          "output_type": "stream",
          "name": "stdout",
          "text": [
            "\r[*********************100%%**********************]  1 of 1 completed\n"
          ]
        },
        {
          "output_type": "execute_result",
          "data": {
            "text/plain": [
              "                                   Open          High           Low  \\\n",
              "Datetime                                                              \n",
              "2023-10-25 00:00:00+00:00  33916.042969  33941.207031  33916.042969   \n",
              "2023-10-25 00:05:00+00:00  33938.441406  33942.093750  33914.734375   \n",
              "2023-10-25 00:10:00+00:00  33935.175781  33950.281250  33886.140625   \n",
              "2023-10-25 00:15:00+00:00  33852.980469  33910.554688  33852.980469   \n",
              "2023-10-25 00:20:00+00:00  33933.507812  33934.132812  33913.386719   \n",
              "\n",
              "                                  Close     Adj Close    Volume  \n",
              "Datetime                                                         \n",
              "2023-10-25 00:00:00+00:00  33941.207031  33941.207031         0  \n",
              "2023-10-25 00:05:00+00:00  33936.296875  33936.296875         0  \n",
              "2023-10-25 00:10:00+00:00  33886.140625  33886.140625         0  \n",
              "2023-10-25 00:15:00+00:00  33910.554688  33910.554688  16486400  \n",
              "2023-10-25 00:20:00+00:00  33913.386719  33913.386719         0  "
            ],
            "text/html": [
              "\n",
              "  <div id=\"df-c216655c-b477-435d-b4c1-3b2fdd90d58a\" class=\"colab-df-container\">\n",
              "    <div>\n",
              "<style scoped>\n",
              "    .dataframe tbody tr th:only-of-type {\n",
              "        vertical-align: middle;\n",
              "    }\n",
              "\n",
              "    .dataframe tbody tr th {\n",
              "        vertical-align: top;\n",
              "    }\n",
              "\n",
              "    .dataframe thead th {\n",
              "        text-align: right;\n",
              "    }\n",
              "</style>\n",
              "<table border=\"1\" class=\"dataframe\">\n",
              "  <thead>\n",
              "    <tr style=\"text-align: right;\">\n",
              "      <th></th>\n",
              "      <th>Open</th>\n",
              "      <th>High</th>\n",
              "      <th>Low</th>\n",
              "      <th>Close</th>\n",
              "      <th>Adj Close</th>\n",
              "      <th>Volume</th>\n",
              "    </tr>\n",
              "    <tr>\n",
              "      <th>Datetime</th>\n",
              "      <th></th>\n",
              "      <th></th>\n",
              "      <th></th>\n",
              "      <th></th>\n",
              "      <th></th>\n",
              "      <th></th>\n",
              "    </tr>\n",
              "  </thead>\n",
              "  <tbody>\n",
              "    <tr>\n",
              "      <th>2023-10-25 00:00:00+00:00</th>\n",
              "      <td>33916.042969</td>\n",
              "      <td>33941.207031</td>\n",
              "      <td>33916.042969</td>\n",
              "      <td>33941.207031</td>\n",
              "      <td>33941.207031</td>\n",
              "      <td>0</td>\n",
              "    </tr>\n",
              "    <tr>\n",
              "      <th>2023-10-25 00:05:00+00:00</th>\n",
              "      <td>33938.441406</td>\n",
              "      <td>33942.093750</td>\n",
              "      <td>33914.734375</td>\n",
              "      <td>33936.296875</td>\n",
              "      <td>33936.296875</td>\n",
              "      <td>0</td>\n",
              "    </tr>\n",
              "    <tr>\n",
              "      <th>2023-10-25 00:10:00+00:00</th>\n",
              "      <td>33935.175781</td>\n",
              "      <td>33950.281250</td>\n",
              "      <td>33886.140625</td>\n",
              "      <td>33886.140625</td>\n",
              "      <td>33886.140625</td>\n",
              "      <td>0</td>\n",
              "    </tr>\n",
              "    <tr>\n",
              "      <th>2023-10-25 00:15:00+00:00</th>\n",
              "      <td>33852.980469</td>\n",
              "      <td>33910.554688</td>\n",
              "      <td>33852.980469</td>\n",
              "      <td>33910.554688</td>\n",
              "      <td>33910.554688</td>\n",
              "      <td>16486400</td>\n",
              "    </tr>\n",
              "    <tr>\n",
              "      <th>2023-10-25 00:20:00+00:00</th>\n",
              "      <td>33933.507812</td>\n",
              "      <td>33934.132812</td>\n",
              "      <td>33913.386719</td>\n",
              "      <td>33913.386719</td>\n",
              "      <td>33913.386719</td>\n",
              "      <td>0</td>\n",
              "    </tr>\n",
              "  </tbody>\n",
              "</table>\n",
              "</div>\n",
              "    <div class=\"colab-df-buttons\">\n",
              "\n",
              "  <div class=\"colab-df-container\">\n",
              "    <button class=\"colab-df-convert\" onclick=\"convertToInteractive('df-c216655c-b477-435d-b4c1-3b2fdd90d58a')\"\n",
              "            title=\"Convert this dataframe to an interactive table.\"\n",
              "            style=\"display:none;\">\n",
              "\n",
              "  <svg xmlns=\"http://www.w3.org/2000/svg\" height=\"24px\" viewBox=\"0 -960 960 960\">\n",
              "    <path d=\"M120-120v-720h720v720H120Zm60-500h600v-160H180v160Zm220 220h160v-160H400v160Zm0 220h160v-160H400v160ZM180-400h160v-160H180v160Zm440 0h160v-160H620v160ZM180-180h160v-160H180v160Zm440 0h160v-160H620v160Z\"/>\n",
              "  </svg>\n",
              "    </button>\n",
              "\n",
              "  <style>\n",
              "    .colab-df-container {\n",
              "      display:flex;\n",
              "      gap: 12px;\n",
              "    }\n",
              "\n",
              "    .colab-df-convert {\n",
              "      background-color: #E8F0FE;\n",
              "      border: none;\n",
              "      border-radius: 50%;\n",
              "      cursor: pointer;\n",
              "      display: none;\n",
              "      fill: #1967D2;\n",
              "      height: 32px;\n",
              "      padding: 0 0 0 0;\n",
              "      width: 32px;\n",
              "    }\n",
              "\n",
              "    .colab-df-convert:hover {\n",
              "      background-color: #E2EBFA;\n",
              "      box-shadow: 0px 1px 2px rgba(60, 64, 67, 0.3), 0px 1px 3px 1px rgba(60, 64, 67, 0.15);\n",
              "      fill: #174EA6;\n",
              "    }\n",
              "\n",
              "    .colab-df-buttons div {\n",
              "      margin-bottom: 4px;\n",
              "    }\n",
              "\n",
              "    [theme=dark] .colab-df-convert {\n",
              "      background-color: #3B4455;\n",
              "      fill: #D2E3FC;\n",
              "    }\n",
              "\n",
              "    [theme=dark] .colab-df-convert:hover {\n",
              "      background-color: #434B5C;\n",
              "      box-shadow: 0px 1px 3px 1px rgba(0, 0, 0, 0.15);\n",
              "      filter: drop-shadow(0px 1px 2px rgba(0, 0, 0, 0.3));\n",
              "      fill: #FFFFFF;\n",
              "    }\n",
              "  </style>\n",
              "\n",
              "    <script>\n",
              "      const buttonEl =\n",
              "        document.querySelector('#df-c216655c-b477-435d-b4c1-3b2fdd90d58a button.colab-df-convert');\n",
              "      buttonEl.style.display =\n",
              "        google.colab.kernel.accessAllowed ? 'block' : 'none';\n",
              "\n",
              "      async function convertToInteractive(key) {\n",
              "        const element = document.querySelector('#df-c216655c-b477-435d-b4c1-3b2fdd90d58a');\n",
              "        const dataTable =\n",
              "          await google.colab.kernel.invokeFunction('convertToInteractive',\n",
              "                                                    [key], {});\n",
              "        if (!dataTable) return;\n",
              "\n",
              "        const docLinkHtml = 'Like what you see? Visit the ' +\n",
              "          '<a target=\"_blank\" href=https://colab.research.google.com/notebooks/data_table.ipynb>data table notebook</a>'\n",
              "          + ' to learn more about interactive tables.';\n",
              "        element.innerHTML = '';\n",
              "        dataTable['output_type'] = 'display_data';\n",
              "        await google.colab.output.renderOutput(dataTable, element);\n",
              "        const docLink = document.createElement('div');\n",
              "        docLink.innerHTML = docLinkHtml;\n",
              "        element.appendChild(docLink);\n",
              "      }\n",
              "    </script>\n",
              "  </div>\n",
              "\n",
              "\n",
              "<div id=\"df-03dc123d-d82f-4f9c-8643-db51bd3528a9\">\n",
              "  <button class=\"colab-df-quickchart\" onclick=\"quickchart('df-03dc123d-d82f-4f9c-8643-db51bd3528a9')\"\n",
              "            title=\"Suggest charts.\"\n",
              "            style=\"display:none;\">\n",
              "\n",
              "<svg xmlns=\"http://www.w3.org/2000/svg\" height=\"24px\"viewBox=\"0 0 24 24\"\n",
              "     width=\"24px\">\n",
              "    <g>\n",
              "        <path d=\"M19 3H5c-1.1 0-2 .9-2 2v14c0 1.1.9 2 2 2h14c1.1 0 2-.9 2-2V5c0-1.1-.9-2-2-2zM9 17H7v-7h2v7zm4 0h-2V7h2v10zm4 0h-2v-4h2v4z\"/>\n",
              "    </g>\n",
              "</svg>\n",
              "  </button>\n",
              "\n",
              "<style>\n",
              "  .colab-df-quickchart {\n",
              "      --bg-color: #E8F0FE;\n",
              "      --fill-color: #1967D2;\n",
              "      --hover-bg-color: #E2EBFA;\n",
              "      --hover-fill-color: #174EA6;\n",
              "      --disabled-fill-color: #AAA;\n",
              "      --disabled-bg-color: #DDD;\n",
              "  }\n",
              "\n",
              "  [theme=dark] .colab-df-quickchart {\n",
              "      --bg-color: #3B4455;\n",
              "      --fill-color: #D2E3FC;\n",
              "      --hover-bg-color: #434B5C;\n",
              "      --hover-fill-color: #FFFFFF;\n",
              "      --disabled-bg-color: #3B4455;\n",
              "      --disabled-fill-color: #666;\n",
              "  }\n",
              "\n",
              "  .colab-df-quickchart {\n",
              "    background-color: var(--bg-color);\n",
              "    border: none;\n",
              "    border-radius: 50%;\n",
              "    cursor: pointer;\n",
              "    display: none;\n",
              "    fill: var(--fill-color);\n",
              "    height: 32px;\n",
              "    padding: 0;\n",
              "    width: 32px;\n",
              "  }\n",
              "\n",
              "  .colab-df-quickchart:hover {\n",
              "    background-color: var(--hover-bg-color);\n",
              "    box-shadow: 0 1px 2px rgba(60, 64, 67, 0.3), 0 1px 3px 1px rgba(60, 64, 67, 0.15);\n",
              "    fill: var(--button-hover-fill-color);\n",
              "  }\n",
              "\n",
              "  .colab-df-quickchart-complete:disabled,\n",
              "  .colab-df-quickchart-complete:disabled:hover {\n",
              "    background-color: var(--disabled-bg-color);\n",
              "    fill: var(--disabled-fill-color);\n",
              "    box-shadow: none;\n",
              "  }\n",
              "\n",
              "  .colab-df-spinner {\n",
              "    border: 2px solid var(--fill-color);\n",
              "    border-color: transparent;\n",
              "    border-bottom-color: var(--fill-color);\n",
              "    animation:\n",
              "      spin 1s steps(1) infinite;\n",
              "  }\n",
              "\n",
              "  @keyframes spin {\n",
              "    0% {\n",
              "      border-color: transparent;\n",
              "      border-bottom-color: var(--fill-color);\n",
              "      border-left-color: var(--fill-color);\n",
              "    }\n",
              "    20% {\n",
              "      border-color: transparent;\n",
              "      border-left-color: var(--fill-color);\n",
              "      border-top-color: var(--fill-color);\n",
              "    }\n",
              "    30% {\n",
              "      border-color: transparent;\n",
              "      border-left-color: var(--fill-color);\n",
              "      border-top-color: var(--fill-color);\n",
              "      border-right-color: var(--fill-color);\n",
              "    }\n",
              "    40% {\n",
              "      border-color: transparent;\n",
              "      border-right-color: var(--fill-color);\n",
              "      border-top-color: var(--fill-color);\n",
              "    }\n",
              "    60% {\n",
              "      border-color: transparent;\n",
              "      border-right-color: var(--fill-color);\n",
              "    }\n",
              "    80% {\n",
              "      border-color: transparent;\n",
              "      border-right-color: var(--fill-color);\n",
              "      border-bottom-color: var(--fill-color);\n",
              "    }\n",
              "    90% {\n",
              "      border-color: transparent;\n",
              "      border-bottom-color: var(--fill-color);\n",
              "    }\n",
              "  }\n",
              "</style>\n",
              "\n",
              "  <script>\n",
              "    async function quickchart(key) {\n",
              "      const quickchartButtonEl =\n",
              "        document.querySelector('#' + key + ' button');\n",
              "      quickchartButtonEl.disabled = true;  // To prevent multiple clicks.\n",
              "      quickchartButtonEl.classList.add('colab-df-spinner');\n",
              "      try {\n",
              "        const charts = await google.colab.kernel.invokeFunction(\n",
              "            'suggestCharts', [key], {});\n",
              "      } catch (error) {\n",
              "        console.error('Error during call to suggestCharts:', error);\n",
              "      }\n",
              "      quickchartButtonEl.classList.remove('colab-df-spinner');\n",
              "      quickchartButtonEl.classList.add('colab-df-quickchart-complete');\n",
              "    }\n",
              "    (() => {\n",
              "      let quickchartButtonEl =\n",
              "        document.querySelector('#df-03dc123d-d82f-4f9c-8643-db51bd3528a9 button');\n",
              "      quickchartButtonEl.style.display =\n",
              "        google.colab.kernel.accessAllowed ? 'block' : 'none';\n",
              "    })();\n",
              "  </script>\n",
              "</div>\n",
              "    </div>\n",
              "  </div>\n"
            ]
          },
          "metadata": {},
          "execution_count": 18
        }
      ]
    },
    {
      "cell_type": "code",
      "source": [
        "## Importar datos desde https://coinmarketcap.com/\n",
        "\n",
        "def extraer_tendencia():\n",
        "  global precio_actual, tendencia\n",
        "  url='https://coinmarketcap.com/'\n",
        "  response = requests.get(url)\n",
        "  soup = BeautifulSoup(response.content, features='lxml')\n",
        "\n",
        "  ## Obtener Precio actual\n",
        "  price=soup.find('div', {'class':['sc-a0353bbc-0 gDrtaY','sc-a0353bbc-0 gDrtaY rise','sc-a0353bbc-0 gDrtaY fall']}).getText()\n",
        "  precio_actual=float(price.strip('$').replace(',', '').strip())\n",
        "\n",
        "  ## Obtener valor del cambio 1H\n",
        "  change=soup.find('span', class_='sc-d55c02b-0 iwhBxy').getText()\n",
        "  cambio=float(change.strip('%').replace(',', '').strip())\n",
        "\n",
        "  ## Obetener tendencia\n",
        "  trend=soup.find('span', class_='sc-d55c02b-0 iwhBxy').find_next(class_=True)\n",
        "  tendencia=None\n",
        "\n",
        "  if 'icon-Caret-up' in trend['class']:\n",
        "          tendencia='alta'\n",
        "  else :\n",
        "          tendencia='baja'\n"
      ],
      "metadata": {
        "id": "ZHUPZnuq3me1"
      },
      "execution_count": null,
      "outputs": []
    },
    {
      "cell_type": "code",
      "source": [
        "extraer_tendencia()\n",
        "print('Precio Bitcoin (USD): ', precio_actual)\n",
        "print('Tendencia: ', tendencia)"
      ],
      "metadata": {
        "colab": {
          "base_uri": "https://localhost:8080/"
        },
        "id": "ySI0vLwPyjPo",
        "outputId": "c272bd01-d1ae-4e63-ca6c-51770a23de66"
      },
      "execution_count": null,
      "outputs": [
        {
          "output_type": "stream",
          "name": "stdout",
          "text": [
            "Precio Bitcoin (USD):  34288.36\n",
            "Tendencia:  alta\n"
          ]
        }
      ]
    },
    {
      "cell_type": "markdown",
      "source": [
        "##<font color=cyan>**3. Limpieza de datos**"
      ],
      "metadata": {
        "id": "7_n6rbMM1Ymo"
      }
    },
    {
      "cell_type": "code",
      "source": [
        "# identificar outliers\n",
        "df_bitcoin.boxplot(['Close'])"
      ],
      "metadata": {
        "colab": {
          "base_uri": "https://localhost:8080/",
          "height": 447
        },
        "id": "3ruxW6o1TQ8y",
        "outputId": "c4710ad5-0fd3-490b-a5b4-9fa5fcb10262"
      },
      "execution_count": null,
      "outputs": [
        {
          "output_type": "execute_result",
          "data": {
            "text/plain": [
              "<Axes: >"
            ]
          },
          "metadata": {},
          "execution_count": 11
        },
        {
          "output_type": "display_data",
          "data": {
            "text/plain": [
              "<Figure size 640x480 with 1 Axes>"
            ],
            "image/png": "[encoded data removed]"
          },
          "metadata": {}
        }
      ]
    },
    {
      "cell_type": "code",
      "source": [
        "# Copia del df\n",
        "df_bitcoin_limpio = df_bitcoin.copy()\n",
        "\n",
        "# Filtrar valores unicos en el índice\n",
        "df_bitcoin_limpio.index = pd.to_datetime(df_bitcoin_limpio.index)\n",
        "df_bitcoin_limpio = df_bitcoin_limpio[~df_bitcoin_limpio.index.duplicated(keep='first')]\n",
        "#df_bitcoin_limpio = df_bitcoin_limpio.drop_duplicates(subset=['Datetime'], keep='first')\n",
        "\n",
        "df_bitcoin_limpio.shape[0]\n"
      ],
      "metadata": {
        "colab": {
          "base_uri": "https://localhost:8080/"
        },
        "id": "5MPg0mVA3sg3",
        "outputId": "e81fd553-aa5f-4440-bd71-c7dd5bad10b2"
      },
      "execution_count": null,
      "outputs": [
        {
          "output_type": "execute_result",
          "data": {
            "text/plain": [
              "1767"
            ]
          },
          "metadata": {},
          "execution_count": 12
        }
      ]
    },
    {
      "cell_type": "code",
      "source": [
        "# Remover outliers\n",
        "bitcoin_cierre= df_bitcoin_limpio['Close']\n",
        "Q1 = bitcoin_cierre.quantile(0.25)\n",
        "Q3 = bitcoin_cierre.quantile(0.75)\n",
        "IIQ = Q3 - Q1\n",
        "limite_inferior = Q1 - 1.5 * IIQ\n",
        "limite_superior = Q3 + 1.5 * IIQ\n",
        "seleccion=(bitcoin_cierre > limite_inferior) & (bitcoin_cierre < limite_superior)\n",
        "df_bitcoin_limpio_B = df_bitcoin_limpio[seleccion]\n",
        "df_bitcoin_limpio_B.boxplot(['Close'])"
      ],
      "metadata": {
        "colab": {
          "base_uri": "https://localhost:8080/",
          "height": 447
        },
        "id": "VeU224AjZpae",
        "outputId": "b24a3bb6-b18d-4742-bd40-a8e6488e0c01"
      },
      "execution_count": null,
      "outputs": [
        {
          "output_type": "execute_result",
          "data": {
            "text/plain": [
              "<Axes: >"
            ]
          },
          "metadata": {},
          "execution_count": 13
        },
        {
          "output_type": "display_data",
          "data": {
            "text/plain": [
              "<Figure size 640x480 with 1 Axes>"
            ],
            "image/png": "[encoded data removed]"
          },
          "metadata": {}
        }
      ]
    },
    {
      "cell_type": "code",
      "source": [
        "# Calcular el valor promedio de los valores de la columna 'Close'\n",
        "media_bitcoin = df_bitcoin_limpio['Close'].mean()\n",
        "media_bitcoin"
      ],
      "metadata": {
        "colab": {
          "base_uri": "https://localhost:8080/"
        },
        "id": "-sm2DuMMpfqA",
        "outputId": "14e9a0db-6e0a-47c7-b783-5b99112d4af6"
      },
      "execution_count": null,
      "outputs": [
        {
          "output_type": "execute_result",
          "data": {
            "text/plain": [
              "34257.116999593236"
            ]
          },
          "metadata": {},
          "execution_count": 14
        }
      ]
    },
    {
      "cell_type": "code",
      "source": [
        "def limpieza_datos():\n",
        "    global media_bitcoin\n",
        "\n",
        "    # Copia del df\n",
        "    df_bitcoin_limpio = df_bitcoin.copy()\n",
        "\n",
        "    # Filtrar valores unicos en el índice\n",
        "    df_bitcoin_limpio.index=pd.to_datetime(df_bitcoin_limpio.index)\n",
        "    df_bitcoin_limpio=df_bitcoin_limpio[~df_bitcoin_limpio.index.duplicated(keep='first')]\n",
        "\n",
        "    # Eliminar valores nulos de la columna 'Close'\n",
        "    df_bitcoin_limpio=df_bitcoin_limpio.dropna(subset=['Close'])\n",
        "\n",
        "    # Filtrar valores de 'Volume' superiores a cero\n",
        "    df_bitcoin_limpio=df_bitcoin_limpio[df_bitcoin_limpio['Volume'] > 0]\n",
        "\n",
        "    # identificar y remover outliers\n",
        "    bitcoin_cierre= df_bitcoin_limpio['Close']\n",
        "    Q1=bitcoin_cierre.quantile(0.25)\n",
        "    Q3=bitcoin_cierre.quantile(0.75)\n",
        "    IIQ=Q3 - Q1\n",
        "    limite_inferior=Q1 - 1.5 * IIQ\n",
        "    limite_superior=Q3 + 1.5 * IIQ\n",
        "    seleccion=(bitcoin_cierre > limite_inferior) & (bitcoin_cierre < limite_superior)\n",
        "    df_bitcoin_limpio=df_bitcoin_limpio[seleccion]\n",
        "\n",
        "\n",
        "    # Calcular el valor promedio de los valores de la columna 'Close'\n",
        "    media_bitcoin=df_bitcoin_limpio['Close'].mean()\n"
      ],
      "metadata": {
        "id": "WO9-Ff_g1XX2"
      },
      "execution_count": null,
      "outputs": []
    },
    {
      "cell_type": "code",
      "source": [
        "limpieza_datos()\n",
        "print('Precio Proedio Bitcoin (USD): ', media_bitcoin)"
      ],
      "metadata": {
        "colab": {
          "base_uri": "https://localhost:8080/"
        },
        "id": "PKRztW872ady",
        "outputId": "97eb1de9-56e8-40fe-bc00-01613110f027"
      },
      "execution_count": null,
      "outputs": [
        {
          "output_type": "stream",
          "name": "stdout",
          "text": [
            "Precio Proedio Bitcoin (USD):  34341.209926155825\n"
          ]
        }
      ]
    },
    {
      "cell_type": "markdown",
      "source": [
        "##<font color=cyan>**4. Tomar decisiones**"
      ],
      "metadata": {
        "id": "kna2gB5GpvNk"
      }
    },
    {
      "cell_type": "code",
      "source": [
        "def tomar_decisiones():\n",
        "  global  algoritmo_decision\n",
        "  algoritmo_decision=[]\n",
        "  if precio_actual >= media_bitcoin and tendencia == 'baja':\n",
        "      algoritmo_decision = 'Vender'\n",
        "  elif precio_actual < media_bitcoin and tendencia == 'alta':\n",
        "      algoritmo_decision = 'Comprar'\n",
        "  else:\n",
        "      algoritmo_decision = 'Esperar'\n"
      ],
      "metadata": {
        "id": "1FQKhs8qj3yP"
      },
      "execution_count": null,
      "outputs": []
    },
    {
      "cell_type": "code",
      "source": [
        "tomar_decisiones()\n",
        "print('Decisión', algoritmo_decision)"
      ],
      "metadata": {
        "colab": {
          "base_uri": "https://localhost:8080/"
        },
        "id": "qTmt2yvSkPWq",
        "outputId": "30ca6561-fae0-42e9-8ab8-0ca63e95b0db"
      },
      "execution_count": null,
      "outputs": [
        {
          "output_type": "stream",
          "name": "stdout",
          "text": [
            "Decisión Comprar\n"
          ]
        }
      ]
    },
    {
      "cell_type": "markdown",
      "source": [
        "##<font color=cyan>**5. Visualización**"
      ],
      "metadata": {
        "id": "8jXPyXY1p-vc"
      }
    },
    {
      "cell_type": "code",
      "source": [
        "def visualizacion():\n",
        "\n",
        "  # Adicionar una nueva columna \"Promedio\"\n",
        "  df_bitcoin['Promedio'] = media_bitcoin\n",
        "\n",
        "  # Configurar el tamaño del gráfico y Título\n",
        "  plt.figure(figsize=(16, 5))\n",
        "  plt.title('Robot Trading')\n",
        "\n",
        "  # Dibujar una línea con los datos del índice y la columna 'Close'\n",
        "  plt.plot(df_bitcoin.index, df_bitcoin['Close'], label='Precio de Cierre', color='b')\n",
        "\n",
        "\n",
        "  # Dibujar una línea con los datos del índice y la columna 'Promedio'\n",
        "\n",
        "  plt.plot(df_bitcoin.index, df_bitcoin['Promedio'], label='Promedio', color='r')\n",
        "\n",
        "  # Resaltar el último precio de cierre con un marcador circular\n",
        "  ultimo_valor = df_bitcoin['Close'].iloc[-1]\n",
        "  plt.scatter(df_bitcoin.index[-1], ultimo_valor, color='b', s=100, zorder=3)\n",
        "  plt.text(df_bitcoin.index[-1], ultimo_valor, f'{ultimo_valor:.2f}', color='black', fontsize=12, ha='left', va='center')\n",
        "\n",
        "  # Mostrar un mensaje con la decisión del algoritmo en el gráfico\n",
        "\n",
        "  plt.annotate(f'Decisión: {algoritmo_decision}', xy=(0.90, 0.90), xycoords='axes fraction', ha='center', fontsize=12)\n",
        "\n",
        "  print(\"Hora de ejecución:\", datetime.now())\n",
        "  print('Precio Promedio Bitcoin: ', media_bitcoin)\n",
        "  print('Precio Actual Bitcoin: ', precio_actual)\n",
        "  print('Tendencia: ', tendencia)\n",
        "  plt.show()"
      ],
      "metadata": {
        "id": "b2AomB782Iob"
      },
      "execution_count": null,
      "outputs": []
    },
    {
      "cell_type": "code",
      "source": [
        "visualizacion()"
      ],
      "metadata": {
        "id": "FesiBLrNLsfL",
        "colab": {
          "base_uri": "https://localhost:8080/",
          "height": 506
        },
        "outputId": "a4ed41ff-4c5a-426b-ef6f-6da894691fc3"
      },
      "execution_count": null,
      "outputs": [
        {
          "output_type": "stream",
          "name": "stdout",
          "text": [
            "Hora de ejecución: 2023-10-31 04:16:21.045961\n",
            "Precio Promedio Bitcoin:  34340.81429058663\n",
            "Precio Actual Bitcoin:  34226.92\n",
            "Tendencia:  alta\n"
          ]
        },
        {
          "output_type": "display_data",
          "data": {
            "text/plain": [
              "<Figure size 1600x500 with 1 Axes>"
            ],
            "image/png": "[encoded data removed]"
          },
          "metadata": {}
        }
      ]
    },
    {
      "cell_type": "markdown",
      "source": [
        "##<font color=cyan>**6. Automatización**"
      ],
      "metadata": {
        "id": "OKIyiROq5orL"
      }
    },
    {
      "cell_type": "code",
      "source": [
        "while(True):\n",
        "  clear_output()\n",
        "  importar_base_bitcoin()\n",
        "  extraer_tendencia()\n",
        "  limpieza_datos()\n",
        "  tomar_decisiones()\n",
        "  visualizacion()\n",
        "  time.sleep(300)"
      ],
      "metadata": {
        "id": "bVP8KeS7DJDr"
      },
      "execution_count": null,
      "outputs": []
    }
  ]
}