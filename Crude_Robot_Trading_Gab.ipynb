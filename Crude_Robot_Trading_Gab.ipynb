{
  "nbformat": 4,
  "nbformat_minor": 0,
  "metadata": {
    "colab": {
      "provenance": [],
      "collapsed_sections": [
        "l8ucCqpWZfyR",
        "Z_P9Zs5k4Qav",
        "7_n6rbMM1Ymo",
        "kna2gB5GpvNk",
        "8jXPyXY1p-vc",
        "72roZ-1B5wh-"
      ],
      "authorship_tag": "ABX9TyNTMEq0hZ8B+fMhW7Kt5aB+",
      "include_colab_link": true
    },
    "kernelspec": {
      "name": "python3",
      "display_name": "Python 3"
    },
    "language_info": {
      "name": "python"
    }
  },
  "cells": [
    {
      "cell_type": "markdown",
      "metadata": {
        "id": "view-in-github",
        "colab_type": "text"
      },
      "source": [
        "<a href=\"https://colab.research.google.com/github/GabEscom/ROBOT_TRADING_ALURA/blob/main/Crude_Robot_Trading_Gab.ipynb\" target=\"_parent\"><img src=\"https://colab.research.google.com/assets/colab-badge.svg\" alt=\"Open In Colab\"/></a>"
      ]
    },
    {
      "cell_type": "markdown",
      "source": [
        "##<font color=cyan>**1. Configuración del Ambiente**\n"
      ],
      "metadata": {
        "id": "l8ucCqpWZfyR"
      }
    },
    {
      "cell_type": "code",
      "source": [
        "pip install matplotlib\n"
      ],
      "metadata": {
        "id": "LO-mDcupdTko"
      },
      "execution_count": null,
      "outputs": []
    },
    {
      "cell_type": "code",
      "source": [
        "pip install yfinance"
      ],
      "metadata": {
        "id": "q8lVZ_QFen4o"
      },
      "execution_count": null,
      "outputs": []
    },
    {
      "cell_type": "code",
      "execution_count": 4,
      "metadata": {
        "id": "AqqYQyXfXNre"
      },
      "outputs": [],
      "source": [
        "# Bibliotecas\n",
        "import sys\n",
        "import bs4\n",
        "from urllib.request import urlopen, urlretrieve, Request\n",
        "import requests\n",
        "import pandas as pd\n",
        "import matplotlib.pyplot as plt\n",
        "import yfinance as yf\n",
        "from bs4 import BeautifulSoup\n",
        "from IPython.display import clear_output\n",
        "import time\n",
        "from datetime import datetime\n"
      ]
    },
    {
      "cell_type": "markdown",
      "source": [
        "##<font color=cyan>**2. Obtención de datos**"
      ],
      "metadata": {
        "id": "Z_P9Zs5k4Qav"
      }
    },
    {
      "cell_type": "code",
      "source": [
        "## Importar base de datos de petróleo crudo\n",
        "\n",
        "def importar_base_crudo():\n",
        "  global df_cl\n",
        "  df_cl= yf.download(\"CL=F\", interval=\"15m\", period=\"7d\")\n",
        ""
      ],
      "metadata": {
        "id": "HvXe6sW5auCi"
      },
      "execution_count": 5,
      "outputs": []
    },
    {
      "cell_type": "code",
      "source": [
        "importar_base_crudo()\n",
        "df_cl.sort_index(inplace=True, ascending=False)\n",
        "df_cl.head()"
      ],
      "metadata": {
        "colab": {
          "base_uri": "https://localhost:8080/",
          "height": 255
        },
        "id": "-8WfvIEa5pz8",
        "outputId": "fc82bc82-63e6-4ba8-95e0-9fb93d816df7"
      },
      "execution_count": 6,
      "outputs": [
        {
          "output_type": "stream",
          "name": "stdout",
          "text": [
            "\r[*********************100%%**********************]  1 of 1 completed\n"
          ]
        },
        {
          "output_type": "execute_result",
          "data": {
            "text/plain": [
              "                          Open       High        Low      Close  Adj Close  \\\n",
              "Datetime                                                                     \n",
              "2023-10-31 21:00:00  81.160004  81.480003  81.120003  81.419998  81.419998   \n",
              "2023-10-31 20:45:00  81.160004  81.199997  81.080002  81.169998  81.169998   \n",
              "2023-10-31 20:30:00  81.290001  81.330002  81.160004  81.169998  81.169998   \n",
              "2023-10-31 20:15:00  81.260002  81.370003  81.250000  81.290001  81.290001   \n",
              "2023-10-31 20:00:00  81.349998  81.379997  81.260002  81.260002  81.260002   \n",
              "\n",
              "                     Volume  \n",
              "Datetime                     \n",
              "2023-10-31 21:00:00    1883  \n",
              "2023-10-31 20:45:00     467  \n",
              "2023-10-31 20:30:00     374  \n",
              "2023-10-31 20:15:00     355  \n",
              "2023-10-31 20:00:00    1007  "
            ],
            "text/html": [
              "\n",
              "  <div id=\"df-798309d6-7392-4be5-8dca-7f7204adc60e\" class=\"colab-df-container\">\n",
              "    <div>\n",
              "<style scoped>\n",
              "    .dataframe tbody tr th:only-of-type {\n",
              "        vertical-align: middle;\n",
              "    }\n",
              "\n",
              "    .dataframe tbody tr th {\n",
              "        vertical-align: top;\n",
              "    }\n",
              "\n",
              "    .dataframe thead th {\n",
              "        text-align: right;\n",
              "    }\n",
              "</style>\n",
              "<table border=\"1\" class=\"dataframe\">\n",
              "  <thead>\n",
              "    <tr style=\"text-align: right;\">\n",
              "      <th></th>\n",
              "      <th>Open</th>\n",
              "      <th>High</th>\n",
              "      <th>Low</th>\n",
              "      <th>Close</th>\n",
              "      <th>Adj Close</th>\n",
              "      <th>Volume</th>\n",
              "    </tr>\n",
              "    <tr>\n",
              "      <th>Datetime</th>\n",
              "      <th></th>\n",
              "      <th></th>\n",
              "      <th></th>\n",
              "      <th></th>\n",
              "      <th></th>\n",
              "      <th></th>\n",
              "    </tr>\n",
              "  </thead>\n",
              "  <tbody>\n",
              "    <tr>\n",
              "      <th>2023-10-31 21:00:00</th>\n",
              "      <td>81.160004</td>\n",
              "      <td>81.480003</td>\n",
              "      <td>81.120003</td>\n",
              "      <td>81.419998</td>\n",
              "      <td>81.419998</td>\n",
              "      <td>1883</td>\n",
              "    </tr>\n",
              "    <tr>\n",
              "      <th>2023-10-31 20:45:00</th>\n",
              "      <td>81.160004</td>\n",
              "      <td>81.199997</td>\n",
              "      <td>81.080002</td>\n",
              "      <td>81.169998</td>\n",
              "      <td>81.169998</td>\n",
              "      <td>467</td>\n",
              "    </tr>\n",
              "    <tr>\n",
              "      <th>2023-10-31 20:30:00</th>\n",
              "      <td>81.290001</td>\n",
              "      <td>81.330002</td>\n",
              "      <td>81.160004</td>\n",
              "      <td>81.169998</td>\n",
              "      <td>81.169998</td>\n",
              "      <td>374</td>\n",
              "    </tr>\n",
              "    <tr>\n",
              "      <th>2023-10-31 20:15:00</th>\n",
              "      <td>81.260002</td>\n",
              "      <td>81.370003</td>\n",
              "      <td>81.250000</td>\n",
              "      <td>81.290001</td>\n",
              "      <td>81.290001</td>\n",
              "      <td>355</td>\n",
              "    </tr>\n",
              "    <tr>\n",
              "      <th>2023-10-31 20:00:00</th>\n",
              "      <td>81.349998</td>\n",
              "      <td>81.379997</td>\n",
              "      <td>81.260002</td>\n",
              "      <td>81.260002</td>\n",
              "      <td>81.260002</td>\n",
              "      <td>1007</td>\n",
              "    </tr>\n",
              "  </tbody>\n",
              "</table>\n",
              "</div>\n",
              "    <div class=\"colab-df-buttons\">\n",
              "\n",
              "  <div class=\"colab-df-container\">\n",
              "    <button class=\"colab-df-convert\" onclick=\"convertToInteractive('df-798309d6-7392-4be5-8dca-7f7204adc60e')\"\n",
              "            title=\"Convert this dataframe to an interactive table.\"\n",
              "            style=\"display:none;\">\n",
              "\n",
              "  <svg xmlns=\"http://www.w3.org/2000/svg\" height=\"24px\" viewBox=\"0 -960 960 960\">\n",
              "    <path d=\"M120-120v-720h720v720H120Zm60-500h600v-160H180v160Zm220 220h160v-160H400v160Zm0 220h160v-160H400v160ZM180-400h160v-160H180v160Zm440 0h160v-160H620v160ZM180-180h160v-160H180v160Zm440 0h160v-160H620v160Z\"/>\n",
              "  </svg>\n",
              "    </button>\n",
              "\n",
              "  <style>\n",
              "    .colab-df-container {\n",
              "      display:flex;\n",
              "      gap: 12px;\n",
              "    }\n",
              "\n",
              "    .colab-df-convert {\n",
              "      background-color: #E8F0FE;\n",
              "      border: none;\n",
              "      border-radius: 50%;\n",
              "      cursor: pointer;\n",
              "      display: none;\n",
              "      fill: #1967D2;\n",
              "      height: 32px;\n",
              "      padding: 0 0 0 0;\n",
              "      width: 32px;\n",
              "    }\n",
              "\n",
              "    .colab-df-convert:hover {\n",
              "      background-color: #E2EBFA;\n",
              "      box-shadow: 0px 1px 2px rgba(60, 64, 67, 0.3), 0px 1px 3px 1px rgba(60, 64, 67, 0.15);\n",
              "      fill: #174EA6;\n",
              "    }\n",
              "\n",
              "    .colab-df-buttons div {\n",
              "      margin-bottom: 4px;\n",
              "    }\n",
              "\n",
              "    [theme=dark] .colab-df-convert {\n",
              "      background-color: #3B4455;\n",
              "      fill: #D2E3FC;\n",
              "    }\n",
              "\n",
              "    [theme=dark] .colab-df-convert:hover {\n",
              "      background-color: #434B5C;\n",
              "      box-shadow: 0px 1px 3px 1px rgba(0, 0, 0, 0.15);\n",
              "      filter: drop-shadow(0px 1px 2px rgba(0, 0, 0, 0.3));\n",
              "      fill: #FFFFFF;\n",
              "    }\n",
              "  </style>\n",
              "\n",
              "    <script>\n",
              "      const buttonEl =\n",
              "        document.querySelector('#df-798309d6-7392-4be5-8dca-7f7204adc60e button.colab-df-convert');\n",
              "      buttonEl.style.display =\n",
              "        google.colab.kernel.accessAllowed ? 'block' : 'none';\n",
              "\n",
              "      async function convertToInteractive(key) {\n",
              "        const element = document.querySelector('#df-798309d6-7392-4be5-8dca-7f7204adc60e');\n",
              "        const dataTable =\n",
              "          await google.colab.kernel.invokeFunction('convertToInteractive',\n",
              "                                                    [key], {});\n",
              "        if (!dataTable) return;\n",
              "\n",
              "        const docLinkHtml = 'Like what you see? Visit the ' +\n",
              "          '<a target=\"_blank\" href=https://colab.research.google.com/notebooks/data_table.ipynb>data table notebook</a>'\n",
              "          + ' to learn more about interactive tables.';\n",
              "        element.innerHTML = '';\n",
              "        dataTable['output_type'] = 'display_data';\n",
              "        await google.colab.output.renderOutput(dataTable, element);\n",
              "        const docLink = document.createElement('div');\n",
              "        docLink.innerHTML = docLinkHtml;\n",
              "        element.appendChild(docLink);\n",
              "      }\n",
              "    </script>\n",
              "  </div>\n",
              "\n",
              "\n",
              "<div id=\"df-bf95dfcb-8bed-4903-8255-e268bc24cb09\">\n",
              "  <button class=\"colab-df-quickchart\" onclick=\"quickchart('df-bf95dfcb-8bed-4903-8255-e268bc24cb09')\"\n",
              "            title=\"Suggest charts.\"\n",
              "            style=\"display:none;\">\n",
              "\n",
              "<svg xmlns=\"http://www.w3.org/2000/svg\" height=\"24px\"viewBox=\"0 0 24 24\"\n",
              "     width=\"24px\">\n",
              "    <g>\n",
              "        <path d=\"M19 3H5c-1.1 0-2 .9-2 2v14c0 1.1.9 2 2 2h14c1.1 0 2-.9 2-2V5c0-1.1-.9-2-2-2zM9 17H7v-7h2v7zm4 0h-2V7h2v10zm4 0h-2v-4h2v4z\"/>\n",
              "    </g>\n",
              "</svg>\n",
              "  </button>\n",
              "\n",
              "<style>\n",
              "  .colab-df-quickchart {\n",
              "      --bg-color: #E8F0FE;\n",
              "      --fill-color: #1967D2;\n",
              "      --hover-bg-color: #E2EBFA;\n",
              "      --hover-fill-color: #174EA6;\n",
              "      --disabled-fill-color: #AAA;\n",
              "      --disabled-bg-color: #DDD;\n",
              "  }\n",
              "\n",
              "  [theme=dark] .colab-df-quickchart {\n",
              "      --bg-color: #3B4455;\n",
              "      --fill-color: #D2E3FC;\n",
              "      --hover-bg-color: #434B5C;\n",
              "      --hover-fill-color: #FFFFFF;\n",
              "      --disabled-bg-color: #3B4455;\n",
              "      --disabled-fill-color: #666;\n",
              "  }\n",
              "\n",
              "  .colab-df-quickchart {\n",
              "    background-color: var(--bg-color);\n",
              "    border: none;\n",
              "    border-radius: 50%;\n",
              "    cursor: pointer;\n",
              "    display: none;\n",
              "    fill: var(--fill-color);\n",
              "    height: 32px;\n",
              "    padding: 0;\n",
              "    width: 32px;\n",
              "  }\n",
              "\n",
              "  .colab-df-quickchart:hover {\n",
              "    background-color: var(--hover-bg-color);\n",
              "    box-shadow: 0 1px 2px rgba(60, 64, 67, 0.3), 0 1px 3px 1px rgba(60, 64, 67, 0.15);\n",
              "    fill: var(--button-hover-fill-color);\n",
              "  }\n",
              "\n",
              "  .colab-df-quickchart-complete:disabled,\n",
              "  .colab-df-quickchart-complete:disabled:hover {\n",
              "    background-color: var(--disabled-bg-color);\n",
              "    fill: var(--disabled-fill-color);\n",
              "    box-shadow: none;\n",
              "  }\n",
              "\n",
              "  .colab-df-spinner {\n",
              "    border: 2px solid var(--fill-color);\n",
              "    border-color: transparent;\n",
              "    border-bottom-color: var(--fill-color);\n",
              "    animation:\n",
              "      spin 1s steps(1) infinite;\n",
              "  }\n",
              "\n",
              "  @keyframes spin {\n",
              "    0% {\n",
              "      border-color: transparent;\n",
              "      border-bottom-color: var(--fill-color);\n",
              "      border-left-color: var(--fill-color);\n",
              "    }\n",
              "    20% {\n",
              "      border-color: transparent;\n",
              "      border-left-color: var(--fill-color);\n",
              "      border-top-color: var(--fill-color);\n",
              "    }\n",
              "    30% {\n",
              "      border-color: transparent;\n",
              "      border-left-color: var(--fill-color);\n",
              "      border-top-color: var(--fill-color);\n",
              "      border-right-color: var(--fill-color);\n",
              "    }\n",
              "    40% {\n",
              "      border-color: transparent;\n",
              "      border-right-color: var(--fill-color);\n",
              "      border-top-color: var(--fill-color);\n",
              "    }\n",
              "    60% {\n",
              "      border-color: transparent;\n",
              "      border-right-color: var(--fill-color);\n",
              "    }\n",
              "    80% {\n",
              "      border-color: transparent;\n",
              "      border-right-color: var(--fill-color);\n",
              "      border-bottom-color: var(--fill-color);\n",
              "    }\n",
              "    90% {\n",
              "      border-color: transparent;\n",
              "      border-bottom-color: var(--fill-color);\n",
              "    }\n",
              "  }\n",
              "</style>\n",
              "\n",
              "  <script>\n",
              "    async function quickchart(key) {\n",
              "      const quickchartButtonEl =\n",
              "        document.querySelector('#' + key + ' button');\n",
              "      quickchartButtonEl.disabled = true;  // To prevent multiple clicks.\n",
              "      quickchartButtonEl.classList.add('colab-df-spinner');\n",
              "      try {\n",
              "        const charts = await google.colab.kernel.invokeFunction(\n",
              "            'suggestCharts', [key], {});\n",
              "      } catch (error) {\n",
              "        console.error('Error during call to suggestCharts:', error);\n",
              "      }\n",
              "      quickchartButtonEl.classList.remove('colab-df-spinner');\n",
              "      quickchartButtonEl.classList.add('colab-df-quickchart-complete');\n",
              "    }\n",
              "    (() => {\n",
              "      let quickchartButtonEl =\n",
              "        document.querySelector('#df-bf95dfcb-8bed-4903-8255-e268bc24cb09 button');\n",
              "      quickchartButtonEl.style.display =\n",
              "        google.colab.kernel.accessAllowed ? 'block' : 'none';\n",
              "    })();\n",
              "  </script>\n",
              "</div>\n",
              "    </div>\n",
              "  </div>\n"
            ]
          },
          "metadata": {},
          "execution_count": 6
        }
      ]
    },
    {
      "cell_type": "code",
      "source": [
        "def extraer_tendencia():\n",
        "  global precio_actual, tendencia\n",
        "  ## Importar datos desde https://investing.com/\n",
        "  url='https://www.investing.com/commodities/crude-oil'\n",
        "  response = requests.get(url)\n",
        "  soup = BeautifulSoup(response.content, features='lxml')\n",
        "\n",
        "  ## Obtener Precio actual\n",
        "\n",
        "  price=soup.find('div', {'class':['flex flex-wrap gap-x-4 gap-y-2 items-center md:gap-6 mb-3']}).getText()\n",
        "  precio_actual=float(price.split('+')[0].split('-')[0])\n",
        "\n",
        "  ## Obtener tendencia\n",
        "  tendencia = 'subida' if '+' in price else 'bajada'\n",
        ""
      ],
      "metadata": {
        "id": "ZHUPZnuq3me1"
      },
      "execution_count": 8,
      "outputs": []
    },
    {
      "cell_type": "code",
      "source": [
        "extraer_tendencia()\n",
        "print('Precio Crudo (USD/BBL): ', precio_actual)\n",
        "print('Tendencia: ', tendencia)"
      ],
      "metadata": {
        "colab": {
          "base_uri": "https://localhost:8080/"
        },
        "id": "ySI0vLwPyjPo",
        "outputId": "498b5dbd-f566-4da2-b9dc-0efe659c98d0"
      },
      "execution_count": 9,
      "outputs": [
        {
          "output_type": "stream",
          "name": "stdout",
          "text": [
            "Precio Crudo (USD/BBL):  81.39\n",
            "Tendencia:  subida\n"
          ]
        }
      ]
    },
    {
      "cell_type": "markdown",
      "source": [
        "##<font color=cyan>**3. Limpieza de datos**"
      ],
      "metadata": {
        "id": "7_n6rbMM1Ymo"
      }
    },
    {
      "cell_type": "code",
      "source": [
        "df_cl.shape[0]"
      ],
      "metadata": {
        "colab": {
          "base_uri": "https://localhost:8080/"
        },
        "id": "tpCCMRNmODOg",
        "outputId": "bb94ef87-1d5b-4d13-c7ad-ff53e3d8f050"
      },
      "execution_count": 10,
      "outputs": [
        {
          "output_type": "execute_result",
          "data": {
            "text/plain": [
              "541"
            ]
          },
          "metadata": {},
          "execution_count": 10
        }
      ]
    },
    {
      "cell_type": "code",
      "source": [
        "# Copia del df\n",
        "df_cl_limpio = df_cl.copy()\n",
        "\n",
        "# Filtrar valores unicos en el índice\n",
        "df_cl_limpio.index = pd.to_datetime(df_cl_limpio.index)\n",
        "df_cl_limpio = df_cl_limpio[~df_cl_limpio.index.duplicated(keep='first')]\n",
        "#df_bitcoin_limpio = df_bitcoin_limpio.drop_duplicates(subset=['Datetime'], keep='first')\n",
        "\n",
        "df_cl_limpio.shape[0]\n"
      ],
      "metadata": {
        "colab": {
          "base_uri": "https://localhost:8080/"
        },
        "id": "3deO7SNGQXlk",
        "outputId": "b2e8900d-60d2-4998-eeaf-a884941700f8"
      },
      "execution_count": 11,
      "outputs": [
        {
          "output_type": "execute_result",
          "data": {
            "text/plain": [
              "541"
            ]
          },
          "metadata": {},
          "execution_count": 11
        }
      ]
    },
    {
      "cell_type": "code",
      "source": [
        "# Eliminar valores nulos de la columna 'Close'\n",
        "df_cl_limpio=df_cl_limpio.dropna(subset=['Close'])\n",
        "df_cl_limpio.shape[0]"
      ],
      "metadata": {
        "colab": {
          "base_uri": "https://localhost:8080/"
        },
        "id": "qcpmDNkcRnwu",
        "outputId": "4ffc3591-6409-4891-c063-2ea4c5f58fcf"
      },
      "execution_count": 12,
      "outputs": [
        {
          "output_type": "execute_result",
          "data": {
            "text/plain": [
              "541"
            ]
          },
          "metadata": {},
          "execution_count": 12
        }
      ]
    },
    {
      "cell_type": "code",
      "source": [
        "# Filtrar valores de 'Volume' superiores a cero\n",
        "df_cl_limpio = df_cl_limpio[df_cl_limpio['Volume'] > 0]\n",
        "df_cl_limpio.shape[0]"
      ],
      "metadata": {
        "colab": {
          "base_uri": "https://localhost:8080/"
        },
        "id": "1t5QQE2ISXHB",
        "outputId": "b494a1a3-f2a0-439e-e5e7-1765dec99fab"
      },
      "execution_count": 13,
      "outputs": [
        {
          "output_type": "execute_result",
          "data": {
            "text/plain": [
              "541"
            ]
          },
          "metadata": {},
          "execution_count": 13
        }
      ]
    },
    {
      "cell_type": "code",
      "source": [
        "# identificar outliers\n",
        "df_cl.boxplot(['Close'])"
      ],
      "metadata": {
        "colab": {
          "base_uri": "https://localhost:8080/",
          "height": 447
        },
        "id": "3ruxW6o1TQ8y",
        "outputId": "906b8768-0787-48fa-83c4-861cc1c53979"
      },
      "execution_count": 14,
      "outputs": [
        {
          "output_type": "execute_result",
          "data": {
            "text/plain": [
              "<Axes: >"
            ]
          },
          "metadata": {},
          "execution_count": 14
        },
        {
          "output_type": "display_data",
          "data": {
            "text/plain": [
              "<Figure size 640x480 with 1 Axes>"
            ],
            "image/png": "[encoded data removed]"
          },
          "metadata": {}
        }
      ]
    },
    {
      "cell_type": "code",
      "source": [
        "# Remover outliers\n",
        "cierre= df_cl_limpio['Close']\n",
        "Q1 = cierre.quantile(0.25)\n",
        "Q3 = cierre.quantile(0.75)\n",
        "IIQ = Q3 - Q1\n",
        "limite_inferior = Q1 - 1.5 * IIQ\n",
        "limite_superior = Q3 + 1.5 * IIQ\n",
        "seleccion=(cierre > limite_inferior) & (cierre < limite_superior)\n",
        "df_cl_limpio = df_cl_limpio[seleccion]\n",
        "df_cl_limpio.boxplot(['Close'])"
      ],
      "metadata": {
        "colab": {
          "base_uri": "https://localhost:8080/",
          "height": 447
        },
        "id": "VeU224AjZpae",
        "outputId": "bda729b2-a6c2-414f-b9ec-6eec37df70e3"
      },
      "execution_count": 15,
      "outputs": [
        {
          "output_type": "execute_result",
          "data": {
            "text/plain": [
              "<Axes: >"
            ]
          },
          "metadata": {},
          "execution_count": 15
        },
        {
          "output_type": "display_data",
          "data": {
            "text/plain": [
              "<Figure size 640x480 with 1 Axes>"
            ],
            "image/png": "[encoded data removed]"
          },
          "metadata": {}
        }
      ]
    },
    {
      "cell_type": "code",
      "source": [
        "# Calcular el valor promedio de los valores de la columna 'Close'\n",
        "media_crudo = df_cl_limpio['Close'].mean()\n",
        "media_crudo"
      ],
      "metadata": {
        "colab": {
          "base_uri": "https://localhost:8080/"
        },
        "id": "-sm2DuMMpfqA",
        "outputId": "59740206-5d16-444d-921f-8f604164017f"
      },
      "execution_count": 16,
      "outputs": [
        {
          "output_type": "execute_result",
          "data": {
            "text/plain": [
              "83.89643256280867"
            ]
          },
          "metadata": {},
          "execution_count": 16
        }
      ]
    },
    {
      "cell_type": "code",
      "source": [
        "def limpieza_datos():\n",
        "    global media_crudo\n",
        "    # Copia del df\n",
        "    df_cl_limpio = df_cl.copy()\n",
        "\n",
        "    # Filtrar valores unicos en el índice\n",
        "    df_cl_limpio.index = pd.to_datetime(df_cl_limpio.index)\n",
        "    df_cl_limpio = df_cl_limpio[~df_cl_limpio.index.duplicated(keep='first')]\n",
        "\n",
        "    # Eliminar valores nulos de la columna 'Close'\n",
        "    df_cl_limpio=df_cl_limpio.dropna(subset=['Close'])\n",
        "\n",
        "    # Filtrar valores de 'Volume' superiores a cero\n",
        "    df_cl_limpio = df_cl_limpio[df_cl_limpio['Volume'] > 0]\n",
        "\n",
        "    # identificar y remover outliers\n",
        "    cierre= df_cl_limpio['Close']\n",
        "    Q1 = cierre.quantile(0.25)\n",
        "    Q3 = cierre.quantile(0.75)\n",
        "    IIQ = Q3 - Q1\n",
        "    limite_inferior = Q1 - 1.5 * IIQ\n",
        "    limite_superior = Q3 + 1.5 * IIQ\n",
        "    seleccion=(cierre > limite_inferior) & (cierre < limite_superior)\n",
        "    df_cl_limpio = df_cl_limpio[seleccion]\n",
        "\n",
        "    # Calcular el valor promedio de los valores de la columna 'Close'\n",
        "    media_crudo = df_cl_limpio['Close'].mean()\n"
      ],
      "metadata": {
        "id": "WO9-Ff_g1XX2"
      },
      "execution_count": 20,
      "outputs": []
    },
    {
      "cell_type": "code",
      "source": [
        "limpieza_datos()\n",
        "print('Precio Promedio Crudo (USD/BBL): ', media_crudo)"
      ],
      "metadata": {
        "id": "eMP7SpMl_xjC",
        "colab": {
          "base_uri": "https://localhost:8080/"
        },
        "outputId": "1473e9b8-cbfd-45a0-a997-37612c0be830"
      },
      "execution_count": 28,
      "outputs": [
        {
          "output_type": "stream",
          "name": "stdout",
          "text": [
            "Precio Promedio Crudo (USD/BBL):  83.89643256280867\n"
          ]
        }
      ]
    },
    {
      "cell_type": "markdown",
      "source": [
        "##<font color=cyan>**4. Tomar decisiones**"
      ],
      "metadata": {
        "id": "kna2gB5GpvNk"
      }
    },
    {
      "cell_type": "code",
      "source": [
        "def tomar_decisiones():\n",
        "  global algoritmo_decision\n",
        "\n",
        "  algoritmo_decision = ()\n",
        "\n",
        "  if precio_actual >= media_crudo and tendencia == 'bajada':\n",
        "        algoritmo_decision = 'Vender'\n",
        "  elif precio_actual < media_crudo and tendencia == 'subida':\n",
        "       algoritmo_decision = 'Comprar'\n",
        "  else:\n",
        "        algoritmo_decision = 'Esperar'\n",
        "\n",
        ""
      ],
      "metadata": {
        "id": "1FQKhs8qj3yP"
      },
      "execution_count": 25,
      "outputs": []
    },
    {
      "cell_type": "code",
      "source": [
        "tomar_decisiones()\n",
        "print('Decición: ', algoritmo_decision)"
      ],
      "metadata": {
        "colab": {
          "base_uri": "https://localhost:8080/"
        },
        "id": "qTmt2yvSkPWq",
        "outputId": "91d5e2bf-677d-4b73-f654-e008cc27d8d1"
      },
      "execution_count": 27,
      "outputs": [
        {
          "output_type": "stream",
          "name": "stdout",
          "text": [
            "Decición:  Comprar\n"
          ]
        }
      ]
    },
    {
      "cell_type": "markdown",
      "source": [
        "##<font color=cyan>**5. Visualización**"
      ],
      "metadata": {
        "id": "8jXPyXY1p-vc"
      }
    },
    {
      "cell_type": "code",
      "source": [
        "def visualizacion():\n",
        "\n",
        "  # Adicionar una nueva columna \"Promedio\"\n",
        "  df_cl['Promedio'] = media_crudo\n",
        "\n",
        "  # Configurar el tamaño del gráfico y Título\n",
        "  plt.figure(figsize=(16, 5))\n",
        "  plt.title('Robot Trading')\n",
        "\n",
        "  # Dibujar una línea con los datos del índice y la columna 'Close'\n",
        "  plt.plot(df_cl.index, df_cl['Close'], label='Precio de Cierre', color='b')\n",
        "\n",
        "  # Dibujar una línea con los datos del índice y la columna 'Promedio'\n",
        "\n",
        "  plt.plot(df_cl.index, df_cl['Promedio'], label='Promedio', color='r')\n",
        "\n",
        "  # Resaltar el último precio de cierre con un marcador circular\n",
        "  ultimo_valor = df_cl['Close'].iloc[-1]\n",
        "  plt.scatter(df_cl.index[-1], ultimo_valor, color='b', s=100, zorder=3)\n",
        "  plt.text(df_cl.index[-1], ultimo_valor, f'{ultimo_valor:.2f}', color='black', fontsize=12, ha='left', va='center')\n",
        "\n",
        "  # Mostrar un mensaje con la decisión del algoritmo en el gráfico\n",
        "\n",
        "  plt.annotate(f'Decisión: {algoritmo_decision}', xy=(0.90, 0.90), xycoords='axes fraction', ha='center', fontsize=12)\n",
        "\n",
        "  print(\"Hora de ejecución:\", datetime.now())\n",
        "  print('Precio Promedio Crudo: ', media_crudo)\n",
        "  print('Precio Actual Crudo: ', precio_actual)\n",
        "  print('Tendencia: ', tendencia)\n",
        "  plt.show()"
      ],
      "metadata": {
        "id": "b2AomB782Iob"
      },
      "execution_count": 34,
      "outputs": []
    },
    {
      "cell_type": "code",
      "source": [
        "visualizacion()"
      ],
      "metadata": {
        "id": "FesiBLrNLsfL",
        "colab": {
          "base_uri": "https://localhost:8080/",
          "height": 522
        },
        "outputId": "f7e49d10-5a0d-47ff-c1c7-24a4fab46645"
      },
      "execution_count": 35,
      "outputs": [
        {
          "output_type": "stream",
          "name": "stdout",
          "text": [
            "Hora de ejecución: 2023-11-01 03:08:01.776825\n",
            "Precio Promedio Crudo:  83.88709027200773\n",
            "Precio Actual Crudo:  81.23\n",
            "Tendencia:  subida\n"
          ]
        },
        {
          "output_type": "display_data",
          "data": {
            "text/plain": [
              "<Figure size 1600x500 with 1 Axes>"
            ],
            "image/png": "[encoded data removed]"
          },
          "metadata": {}
        }
      ]
    },
    {
      "cell_type": "markdown",
      "source": [
        "##<font color=cyan>**6. Automatización**"
      ],
      "metadata": {
        "id": "72roZ-1B5wh-"
      }
    },
    {
      "cell_type": "code",
      "source": [
        "while(True):\n",
        "  clear_output()\n",
        "  importar_base_crudo()\n",
        "  extraer_tendencia()\n",
        "  limpieza_datos()\n",
        "  tomar_decisiones()\n",
        "  visualizacion()\n",
        "  time.sleep(300)"
      ],
      "metadata": {
        "colab": {
          "base_uri": "https://localhost:8080/",
          "height": 733
        },
        "id": "bVP8KeS7DJDr",
        "outputId": "520b592b-4fee-478b-9983-f0e0eb313faf"
      },
      "execution_count": 33,
      "outputs": [
        {
          "output_type": "stream",
          "name": "stdout",
          "text": [
            "\r[*********************100%%**********************]  1 of 1 completed\n",
            "Hora de ejecución: 2023-11-01 01:48:53.710099\n",
            "Precio Promedio Crudo:  83.88709027200773\n",
            "Precio Actual Crudo:  81.23\n",
            "Tendencia:  subida\n"
          ]
        },
        {
          "output_type": "display_data",
          "data": {
            "text/plain": [
              "<Figure size 1600x500 with 1 Axes>"
            ],
            "image/png": "[encoded data removed]"
          },
          "metadata": {}
        },
        {
          "output_type": "error",
          "ename": "KeyboardInterrupt",
          "evalue": "ignored",
          "traceback": [
            "\u001b[0;31m---------------------------------------------------------------------------\u001b[0m",
            "\u001b[0;31mKeyboardInterrupt\u001b[0m                         Traceback (most recent call last)",
            "\u001b[0;32m<ipython-input-33-567f23bd673f>\u001b[0m in \u001b[0;36m<cell line: 1>\u001b[0;34m()\u001b[0m\n\u001b[1;32m      6\u001b[0m   \u001b[0mtomar_decisiones\u001b[0m\u001b[0;34m(\u001b[0m\u001b[0;34m)\u001b[0m\u001b[0;34m\u001b[0m\u001b[0;34m\u001b[0m\u001b[0m\n\u001b[1;32m      7\u001b[0m   \u001b[0mvisualizacion\u001b[0m\u001b[0;34m(\u001b[0m\u001b[0;34m)\u001b[0m\u001b[0;34m\u001b[0m\u001b[0;34m\u001b[0m\u001b[0m\n\u001b[0;32m----> 8\u001b[0;31m   \u001b[0mtime\u001b[0m\u001b[0;34m.\u001b[0m\u001b[0msleep\u001b[0m\u001b[0;34m(\u001b[0m\u001b[0;36m300\u001b[0m\u001b[0;34m)\u001b[0m\u001b[0;34m\u001b[0m\u001b[0;34m\u001b[0m\u001b[0m\n\u001b[0m",
            "\u001b[0;31mKeyboardInterrupt\u001b[0m: "
          ]
        }
      ]
    }
  ]
}